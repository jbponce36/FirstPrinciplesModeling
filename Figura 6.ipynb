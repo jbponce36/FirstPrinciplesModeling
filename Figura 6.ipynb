{
 "cells": [
  {
   "cell_type": "code",
   "execution_count": 32,
   "metadata": {},
   "outputs": [
    {
     "data": {
      "image/png": "[encoded data removed]",
      "text/plain": [
       "<Figure size 432x288 with 1 Axes>"
      ]
     },
     "metadata": {
      "needs_background": "light"
     },
     "output_type": "display_data"
    }
   ],
   "source": [
    "#Figura 6. Evaluación numérica de la aplicación de Poincaré para el modelo SIRS con estocasticidad ambiental. \n",
    "\n",
    "from numpy import linspace,cos,log,ones,random,sqrt\n",
    "from scipy import pi,array,zeros,integrate,linalg\n",
    "from pylab import plot,show,loglog,ion,ioff,xlabel,ylabel\n",
    "from pylab import title,subplot,text\n",
    "\n",
    "def func(y, t, p):\n",
    "    f = zeros([2])\n",
    "    betaIS = p[0]*(1.0 + p[1]*cos(2.0*pi*t))*y[0]*y[1]\n",
    "    f[0] = xi - xi*y[0] - gamma*y[1] - betaIS\n",
    "    f[1] = -eta*y[1] + betaIS\n",
    "    return f\n",
    "\n",
    "class IteratedMapping(object):\n",
    "    \n",
    "    def __init__(self):\n",
    "        self.n_pts = 100\n",
    "        self.tdata = linspace(0.0,1.0,self.n_pts)\n",
    "\n",
    "    def iterate_map(self,y0,p):\n",
    "        y1 = integrate.odeint(func,y0,self.tdata,args=(p,))[-1,:]\n",
    "        return y1\n",
    "\n",
    "    def get_map(self,noise_level,q_pts,p):\n",
    "        ySoln = zeros([q_pts,2])\n",
    "        y0 = array([0.9,0.05])\n",
    "        y0 = integrate.odeint(func,y0,linspace(0.0,100.0,2000),args=(p,))[-1,:]\n",
    "        y0 = self.iterate_map(y0,p)\n",
    "        y1 = y0.copy()\n",
    "        ySoln[0,:] = y1\n",
    "        for k in range(1,q_pts):\n",
    "            y0 = self.iterate_map(y0,p)\n",
    "            if not y0[0]*y0[1] == 0.0:\n",
    "                ySoln[k,:] = y0\n",
    "            y0[0] = y0[0]*random.normal(loc=1,scale=noise_level)\n",
    "            y0[1] = y0[1]*random.normal(loc=1,scale=noise_level)\n",
    "            y0 = abs(y0)\n",
    "            if sum(y0) > 1.0:\n",
    "                y0 = y0/linalg.norm(y0)\n",
    "        y0 = self.iterate_map(y0,p)\n",
    "        y0 = abs(y0)\n",
    "        if sum(y0) > 1.0:\n",
    "            y0 = y0/linalg.norm(y0)\n",
    "        return ySoln\n",
    "\n",
    "N = 2420.0\n",
    "mu = 0.013\n",
    "nu = 36.0\n",
    "gamma = 1.8\n",
    "xi = gamma + mu\n",
    "eta = nu + mu\n",
    "\n",
    "myiterate = IteratedMapping()\n",
    "\n",
    "q = array([4.28467402e+01, 2.91359345e-01])          \n",
    "\n",
    "ySoln1 = myiterate.get_map(0.05,3000,q)\n",
    "plot(log(ySoln1[1:-1,0]),log(ySoln1[1:-1,1]),'b,')\n",
    "plot(log(ySoln1[0,0]),log(ySoln1[0,1]),'gD')\n",
    "plot(log(ySoln1[-1,0]),log(ySoln1[-1,1]),'ro')\n",
    "ylabel(r'Log(I)')\n",
    "title('Modelo clasico')\n",
    "show()\n"
   ]
  },
  {
   "cell_type": "code",
   "execution_count": 33,
   "metadata": {},
   "outputs": [
    {
     "name": "stderr",
     "output_type": "stream",
     "text": [
      "C:\\Users\\Juli\\Anaconda3\\lib\\site-packages\\ipykernel_launcher.py:57: RuntimeWarning: invalid value encountered in log\n"
     ]
    },
    {
     "data": {
      "image/png": "[encoded data removed]",
      "text/plain": [
       "<Figure size 432x288 with 1 Axes>"
      ]
     },
     "metadata": {
      "needs_background": "light"
     },
     "output_type": "display_data"
    }
   ],
   "source": [
    "from numpy import linspace,cos,log,ones,random,sqrt\n",
    "from scipy import pi,array,zeros,integrate,linalg\n",
    "from pylab import plot,show,loglog,ion,ioff,xlabel,ylabel\n",
    "from pylab import title,subplot,text\n",
    "\n",
    "def func(y, t, p):\n",
    "    f = zeros([2])\n",
    "    betaIS = p[0]*(1.0 + p[1]*cos(2.0*pi*t))*y[0]*y[1]\n",
    "    f[0] = xi - xi*y[0] - gamma*y[1] - betaIS\n",
    "    f[1] = -eta*y[1] + betaIS\n",
    "    return f\n",
    "\n",
    "class IteratedMapping(object):\n",
    "    \n",
    "    def __init__(self):\n",
    "        self.n_pts = 100\n",
    "        self.tdata = linspace(0.0,1.0,self.n_pts)\n",
    "\n",
    "    def iterate_map(self,y0,p):\n",
    "        y1 = integrate.odeint(func,y0,self.tdata,args=(p,))[-1,:]\n",
    "        return y1\n",
    "\n",
    "    def get_map(self,noise_level,q_pts,p):\n",
    "        ySoln = zeros([q_pts,2])\n",
    "        y0 = array([0.9,0.05])\n",
    "        y0 = integrate.odeint(func,y0,linspace(0.0,100.0,2000),args=(p,))[-1,:]\n",
    "        y0 = self.iterate_map(y0,p)\n",
    "        y1 = y0.copy()\n",
    "        ySoln[0,:] = y1\n",
    "        for k in range(1,q_pts):\n",
    "            y0 = self.iterate_map(y0,p)\n",
    "            if not y0[0]*y0[1] == 0.0:\n",
    "                ySoln[k,:] = y0\n",
    "            y0[0] = y0[0]*random.normal(loc=1,scale=noise_level)\n",
    "            y0[1] = y0[1]*random.normal(loc=1,scale=noise_level)\n",
    "            y0 = abs(y0)\n",
    "            if sum(y0) > 1.0:\n",
    "                y0 = y0/linalg.norm(y0)\n",
    "        y0 = self.iterate_map(y0,p)\n",
    "        y0 = abs(y0)\n",
    "        if sum(y0) > 1.0:\n",
    "            y0 = y0/linalg.norm(y0)\n",
    "        return ySoln\n",
    "\n",
    "N = 2420.0\n",
    "mu = 0.013\n",
    "nu = 36.0\n",
    "gamma = 1.8\n",
    "xi = gamma + mu\n",
    "eta = nu + mu\n",
    "\n",
    "myiterate = IteratedMapping()\n",
    "\n",
    "q = array([4.28467402e+01, 2.91359345e-01]) \n",
    "\n",
    "ySoln2 = myiterate.get_map(0.5,3000,q)\n",
    "plot(log(ySoln2[1:-1,0]),log(ySoln2[1:-1,1]),'b,')\n",
    "plot(log(ySoln2[0,0]),log(ySoln2[0,1]),'gD')\n",
    "plot(log(ySoln2[-1,0]),log(ySoln2[-1,1]),'ro')\n",
    "ylabel(r'Log(I)')\n",
    "xlabel(r'Log(S)')\n",
    "show()"
   ]
  },
  {
   "cell_type": "code",
   "execution_count": 34,
   "metadata": {},
   "outputs": [
    {
     "data": {
      "image/png": "[encoded data removed]",
      "text/plain": [
       "<Figure size 432x288 with 1 Axes>"
      ]
     },
     "metadata": {
      "needs_background": "light"
     },
     "output_type": "display_data"
    }
   ],
   "source": [
    "from numpy import linspace,cos,log,ones,random,sqrt\n",
    "from scipy import pi,array,zeros,integrate,linalg\n",
    "from pylab import plot,show,loglog,ion,ioff,xlabel,ylabel\n",
    "from pylab import title,subplot,axis\n",
    "\n",
    "def func(y, t, p):\n",
    "    f = zeros([2])\n",
    "    betaIS = p[0]*(1.0 + p[1]*cos(2.0*pi*t))*y[0]*y[1]**2/(y[1] + p[2])\n",
    "    f[0] = xi - xi*y[0] - gamma*y[1] - betaIS\n",
    "    f[1] = -eta*y[1] + betaIS\n",
    "    return f\n",
    "\n",
    "class IteratedMapping(object):\n",
    "    \n",
    "    def __init__(self):\n",
    "        self.n_pts = 100\n",
    "        self.tdata = linspace(0.0,1.0,self.n_pts)\n",
    "\n",
    "    def iterate_map(self,y0,p):\n",
    "        y1 = integrate.odeint(func,y0,self.tdata,args=(p,))[-1,:]\n",
    "        return y1\n",
    "\n",
    "    def get_map(self,noise_level,q_pts,p): \n",
    "        ySoln = zeros([q_pts,2])\n",
    "        y0 = array([0.9,0.05])\n",
    "        y0 = integrate.odeint(func,y0,linspace(0.0,100.0,2000),args=(p,))[-1,:]\n",
    "        y0 = self.iterate_map(y0,p)\n",
    "        y1 = y0.copy()\n",
    "        ySoln[0,:] = y1\n",
    "        for k in range(1,q_pts):\n",
    "            y0 = self.iterate_map(y0,p)\n",
    "            if not y0[0]*y0[1] == 0.0:\n",
    "                ySoln[k,:] = y0\n",
    "            y0[0] = y0[0]*random.normal(loc=1,scale=noise_level)\n",
    "            y0[1] = y0[1]*random.normal(loc=1,scale=noise_level)\n",
    "            y0 = abs(y0)\n",
    "            if sum(y0) > 1.0:\n",
    "                y0 = y0/linalg.norm(y0)\n",
    "        y0 = self.iterate_map(y0,p)\n",
    "        y0 = abs(y0)\n",
    "        if sum(y0) > 1.0:\n",
    "            y0 = y0/linalg.norm(y0)\n",
    "        return ySoln\n",
    "\n",
    "N = 2420.0\n",
    "mu = 0.013\n",
    "nu = 36.0\n",
    "gamma = 1.8\n",
    "xi = gamma + mu\n",
    "eta = nu + mu\n",
    "\n",
    "myiterate = IteratedMapping()\n",
    "\n",
    "q = array([ 4.28779903e+01,   2.70760668e-01,   2.43100720e-06])\n",
    "\n",
    "ySoln1 = myiterate.get_map(0.05,3000,q)\n",
    "plot(log(ySoln1[1:-1,0]),log(ySoln1[1:-1,1]),'b,')\n",
    "plot(log(ySoln1[0,0]),log(ySoln1[0,1]),'gD')\n",
    "plot(log(ySoln1[-1,0]),log(ySoln1[-1,1]),'ro')\n",
    "title('Modelo LHD')\n",
    "show()\n"
   ]
  },
  {
   "cell_type": "code",
   "execution_count": 41,
   "metadata": {},
   "outputs": [
    {
     "name": "stderr",
     "output_type": "stream",
     "text": [
      "C:\\Users\\Juli\\Anaconda3\\lib\\site-packages\\ipykernel_launcher.py:57: RuntimeWarning: invalid value encountered in log\n"
     ]
    },
    {
     "data": {
      "image/png": "[encoded data removed]",
      "text/plain": [
       "<Figure size 432x288 with 1 Axes>"
      ]
     },
     "metadata": {
      "needs_background": "light"
     },
     "output_type": "display_data"
    }
   ],
   "source": [
    "from numpy import linspace,cos,log,ones,random,sqrt\n",
    "from scipy import pi,array,zeros,integrate,linalg\n",
    "from pylab import plot,show,loglog,ion,ioff,xlabel,ylabel\n",
    "from pylab import title,subplot,axis\n",
    "\n",
    "def func(y, t, p):\n",
    "    f = zeros([2])\n",
    "    betaIS = p[0]*(1.0 + p[1]*cos(2.0*pi*t))*y[0]*y[1]**2/(y[1] + p[2])\n",
    "    f[0] = xi - xi*y[0] - gamma*y[1] - betaIS\n",
    "    f[1] = -eta*y[1] + betaIS\n",
    "    return f\n",
    "\n",
    "class IteratedMapping(object):\n",
    "    \n",
    "    def __init__(self):\n",
    "        self.n_pts = 100\n",
    "        self.tdata = linspace(0.0,1.0,self.n_pts)\n",
    "\n",
    "    def iterate_map(self,y0,p):\n",
    "        y1 = integrate.odeint(func,y0,self.tdata,args=(p,))[-1,:]\n",
    "        return y1\n",
    "\n",
    "    def get_map(self,noise_level,q_pts,p): \n",
    "        ySoln = zeros([q_pts,2])\n",
    "        y0 = array([0.9,0.05])\n",
    "        y0 = integrate.odeint(func,y0,linspace(0.0,100.0,2000),args=(p,))[-1,:]\n",
    "        y0 = self.iterate_map(y0,p)\n",
    "        y1 = y0.copy()\n",
    "        ySoln[0,:] = y1\n",
    "        for k in range(1,q_pts):\n",
    "            y0 = self.iterate_map(y0,p)\n",
    "            if not y0[0]*y0[1] == 0.0:\n",
    "                ySoln[k,:] = y0\n",
    "            y0[0] = y0[0]*random.normal(loc=1,scale=noise_level)\n",
    "            y0[1] = y0[1]*random.normal(loc=1,scale=noise_level)\n",
    "            y0 = abs(y0)\n",
    "            if sum(y0) > 1.0:\n",
    "                y0 = y0/linalg.norm(y0)\n",
    "        y0 = self.iterate_map(y0,p)\n",
    "        y0 = abs(y0)\n",
    "        if sum(y0) > 1.0:\n",
    "            y0 = y0/linalg.norm(y0)\n",
    "        return ySoln\n",
    "\n",
    "N = 2420.0\n",
    "mu = 0.013\n",
    "nu = 36.0\n",
    "gamma = 1.8\n",
    "xi = gamma + mu\n",
    "eta = nu + mu\n",
    "\n",
    "myiterate = IteratedMapping()\n",
    "\n",
    "q = array([ 4.28779903e+01,   2.70760668e-01,   2.43100720e-06])\n",
    "\n",
    "ySoln2 = myiterate.get_map(0.1,3000,q)\n",
    "plot(log(ySoln2[1:-1,0]),log(ySoln2[1:-1,1]),'b,')\n",
    "plot(log(ySoln2[0,0]),log(ySoln2[0,1]),'gD')\n",
    "plot(log(ySoln2[-2,0]),log(ySoln2[-2,1]),'ro')\n",
    "xlabel(r'Log(S)')\n",
    "show()"
   ]
  },
  {
   "cell_type": "code",
   "execution_count": null,
   "metadata": {},
   "outputs": [],
   "source": []
  }
 ],
 "metadata": {
  "kernelspec": {
   "display_name": "Python 3",
   "language": "python",
   "name": "python3"
  },
  "language_info": {
   "codemirror_mode": {
    "name": "ipython",
    "version": 3
   },
   "file_extension": ".py",
   "mimetype": "text/x-python",
   "name": "python",
   "nbconvert_exporter": "python",
   "pygments_lexer": "ipython3",
   "version": "3.7.3"
  }
 },
 "nbformat": 4,
 "nbformat_minor": 2
}
